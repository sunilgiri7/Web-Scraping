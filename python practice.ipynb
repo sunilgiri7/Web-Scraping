{
 "cells": [
  {
   "cell_type": "markdown",
   "id": "6919ad84",
   "metadata": {},
   "source": [
    "## Write a python program to print prime number between 100 to 200(Hint: for loop)"
   ]
  },
  {
   "cell_type": "code",
   "execution_count": 12,
   "id": "ebee0386",
   "metadata": {},
   "outputs": [
    {
     "name": "stdout",
     "output_type": "stream",
     "text": [
      "Enter any number5\n",
      "5 prime\n"
     ]
    }
   ],
   "source": [
    "n = int(input(\"Enter any number\"))\n",
    "if n>1:\n",
    "    for i in range(2,n):\n",
    "        if (n%i)==0:\n",
    "            print(n,\"not prime\")\n",
    "            break\n",
    "    else:\n",
    "            print(n,\"prime\")\n",
    "else:\n",
    "    print(n,\"not prime\")"
   ]
  },
  {
   "cell_type": "markdown",
   "id": "615d8cb5",
   "metadata": {},
   "source": [
    "## Write a sort function to sort the element in a list do not use sort function"
   ]
  },
  {
   "cell_type": "code",
   "execution_count": 17,
   "id": "94e90e0a",
   "metadata": {},
   "outputs": [
    {
     "name": "stdout",
     "output_type": "stream",
     "text": [
      "[10, 15, 20, 25, 40]\n"
     ]
    }
   ],
   "source": [
    "def bubble_sort(n):\n",
    "    for i in range(len(n)-1,0,-1):\n",
    "        for j in range(i):\n",
    "            if n[j] > n[j+1]:\n",
    "                temp = n[j]\n",
    "                n[j], n[j+1] = n[j+1], temp\n",
    "n = [20,40,10,25,15]\n",
    "bubble_sort(n)\n",
    "print(n)"
   ]
  },
  {
   "cell_type": "markdown",
   "id": "a4f822f5",
   "metadata": {},
   "source": [
    "## Write a program to print fibonacci series"
   ]
  },
  {
   "cell_type": "code",
   "execution_count": 31,
   "id": "0ad651e0",
   "metadata": {},
   "outputs": [
    {
     "name": "stdout",
     "output_type": "stream",
     "text": [
      "0 1 1 2 3 5 8 13 21 34 "
     ]
    }
   ],
   "source": [
    "def series(n):\n",
    "    a, b = 0,1\n",
    "    print(a,b, end=\" \")\n",
    "    for i in range(n-2):\n",
    "        c = a+b\n",
    "        print(c, end=\" \")\n",
    "        a,b = b,c\n",
    "series(10)"
   ]
  },
  {
   "cell_type": "markdown",
   "id": "8a165e98",
   "metadata": {},
   "source": [
    "## Write a sort function to sort the element in list in descending order"
   ]
  },
  {
   "cell_type": "code",
   "execution_count": 17,
   "id": "40cd9a23",
   "metadata": {},
   "outputs": [
    {
     "name": "stdout",
     "output_type": "stream",
     "text": [
      "[50, 40, 40, 30, 20, 10, 2, 2]\n"
     ]
    }
   ],
   "source": [
    "lst = [20,2,40,2,30,50,40,10]\n",
    "new_lst = []\n",
    "while lst:\n",
    "    minimum = lst[0]\n",
    "    const_val = 0\n",
    "    for i in range(1, len(lst)):\n",
    "            if lst[i]>minimum:\n",
    "                minimum = lst[i]\n",
    "                const_val = i\n",
    "    new_lst.append(minimum)\n",
    "    lst.pop(const_val)\n",
    "print(new_lst)"
   ]
  },
  {
   "cell_type": "markdown",
   "id": "d4713c76",
   "metadata": {},
   "source": [
    "## Write a program to print list in reverse"
   ]
  },
  {
   "cell_type": "code",
   "execution_count": 40,
   "id": "d987d3da",
   "metadata": {},
   "outputs": [
    {
     "name": "stdout",
     "output_type": "stream",
     "text": [
      "[10, 20, 30, 40, 50]\n"
     ]
    }
   ],
   "source": [
    "lst = [50,40,30,20,10]\n",
    "new_list = []\n",
    "for i in range(len(lst)-1,-1,-1):\n",
    "    new_list.append(lst[i])\n",
    "print(new_list)"
   ]
  },
  {
   "cell_type": "markdown",
   "id": "0cb54af0",
   "metadata": {},
   "source": [
    "## Write a program to check whether a string is palidrome or not"
   ]
  },
  {
   "cell_type": "code",
   "execution_count": 43,
   "id": "e5002ec3",
   "metadata": {},
   "outputs": [
    {
     "name": "stdout",
     "output_type": "stream",
     "text": [
      "False\n"
     ]
    }
   ],
   "source": [
    "def palindrome(string):\n",
    "    return string==string[::-1]\n",
    "print(palindrome('mon'))"
   ]
  },
  {
   "cell_type": "markdown",
   "id": "e5b4b6b6",
   "metadata": {},
   "source": [
    "## Write a python program to print set of duplicate in list "
   ]
  },
  {
   "cell_type": "code",
   "execution_count": 53,
   "id": "fecd1ec1",
   "metadata": {},
   "outputs": [
    {
     "name": "stdout",
     "output_type": "stream",
     "text": [
      "{10, 2, 4}\n"
     ]
    }
   ],
   "source": [
    "lst = [10,4,10,3,2,2,4]\n",
    "print(set([x for x in lst if lst.count(x) > 1]))"
   ]
  },
  {
   "cell_type": "markdown",
   "id": "00e7f0b9",
   "metadata": {},
   "source": [
    "## Write a program to print number of word in given sentence"
   ]
  },
  {
   "cell_type": "code",
   "execution_count": 60,
   "id": "1becd38b",
   "metadata": {},
   "outputs": [
    {
     "name": "stdout",
     "output_type": "stream",
     "text": [
      "['hello', 'how', 'are', 'you!']\n",
      "hellohowareyou!\n"
     ]
    }
   ],
   "source": [
    "string = 'hello how are you!'\n",
    "s = string.split()\n",
    "print(s)\n",
    "print(\"\".join(s))\n"
   ]
  },
  {
   "cell_type": "markdown",
   "id": "9fce03dd",
   "metadata": {},
   "source": [
    "## Given an array arr[] of a elements,  write a python function to search a given element x in array arr[] "
   ]
  },
  {
   "cell_type": "code",
   "execution_count": 87,
   "id": "78cae950",
   "metadata": {},
   "outputs": [
    {
     "name": "stdout",
     "output_type": "stream",
     "text": [
      "5  is present\n"
     ]
    }
   ],
   "source": [
    "def find_num(num, n):\n",
    "    for i in range(len(num)):\n",
    "        if num[i] == n:\n",
    "            return num[i]\n",
    "    print(\"Not present\")\n",
    "        \n",
    "num = [20,20,10,3,50,3,5]\n",
    "print(find_num(num, 5),\" is present\")"
   ]
  },
  {
   "cell_type": "markdown",
   "id": "c789b675",
   "metadata": {},
   "source": [
    "## Write a python program to implement binary search "
   ]
  },
  {
   "cell_type": "code",
   "execution_count": 114,
   "id": "bd514dd2",
   "metadata": {},
   "outputs": [
    {
     "name": "stdout",
     "output_type": "stream",
     "text": [
      "Element found in  2\n"
     ]
    }
   ],
   "source": [
    "def bst(arr, high, low, x):\n",
    "    if high >= low:\n",
    "        mid = (high + low)//2\n",
    "        if arr[mid] == x:\n",
    "            return mid\n",
    "        elif arr[mid] > x:\n",
    "            return bst(arr, mid-1, low, x)\n",
    "        else:\n",
    "            return bst(arr, high, mid+1, x)\n",
    "    else:\n",
    "        return -1\n",
    "    \n",
    "arr = sorted([50,40,30,20,10])\n",
    "result = bst(arr, len(arr)-1, 0, 30)\n",
    "\n",
    "if result != -1:\n",
    "    print(\"Element found in \", result)\n",
    "else:\n",
    "    print(\"Element not found\")"
   ]
  },
  {
   "cell_type": "markdown",
   "id": "e7f0a888",
   "metadata": {},
   "source": [
    "## Write a python program to create a DataFrame and print a simple bar plot"
   ]
  },
  {
   "cell_type": "code",
   "execution_count": 156,
   "id": "1fcf5350",
   "metadata": {},
   "outputs": [
    {
     "name": "stderr",
     "output_type": "stream",
     "text": [
      "C:\\Users\\ASUS\\AppData\\Local\\Temp\\ipykernel_3036\\3079262703.py:9: FutureWarning: Could not cast to int32, falling back to object. This behavior is deprecated. In a future version, when a dtype is passed to 'DataFrame', either all columns will be cast to that dtype, or a TypeError will be raised.\n",
      "  df = pd.DataFrame(dataframe, columns=['name', 'age', 'branch', 'roll_no'], dtype=int)\n"
     ]
    },
    {
     "data": {
      "image/png": "[encoded data removed]",
      "text/plain": [
       "<Figure size 432x288 with 1 Axes>"
      ]
     },
     "metadata": {
      "needs_background": "light"
     },
     "output_type": "display_data"
    }
   ],
   "source": [
    "import pandas as pd\n",
    "import matplotlib.pyplot as plt\n",
    "dataframe = [\n",
    "    ['sunil', 21, 'computer application', 59],\n",
    "    ['jai', 22, 'CSE', 30],\n",
    "    ['himanshu', 23, 'computer application', 60],\n",
    "    ['adarsh', 22, 'EE', 13]\n",
    "]\n",
    "df = pd.DataFrame(dataframe, columns=['name', 'age', 'branch', 'roll_no'], dtype=int)\n",
    "\n",
    "df.plot.bar(x='roll_no', y='age')\n",
    "\n",
    "plt.xlabel('roll no')\n",
    "plt.ylabel('age')\n",
    "plt.show()"
   ]
  },
  {
   "cell_type": "code",
   "execution_count": 157,
   "id": "47c411ba",
   "metadata": {},
   "outputs": [
    {
     "data": {
      "image/png": "[encoded data removed]",
      "text/plain": [
       "<Figure size 432x288 with 1 Axes>"
      ]
     },
     "metadata": {
      "needs_background": "light"
     },
     "output_type": "display_data"
    }
   ],
   "source": [
    "import numpy as np\n",
    "import matplotlib.pyplot as plt\n",
    "\n",
    "t = np.linspace(-10, 10, 100)\n",
    "sig = 1 / (1 + np.exp(-t))\n",
    "\n",
    "plt.axhline(y=0, color=\"black\", linestyle=\"--\")\n",
    "plt.axhline(y=0.5, color=\"black\", linestyle=\":\")\n",
    "plt.axhline(y=1.0, color=\"black\", linestyle=\"--\")\n",
    "plt.axvline(color=\"grey\")\n",
    "plt.axline((0, 0.5), slope=0.25, color=\"black\", linestyle=(0, (5, 5)))\n",
    "plt.plot(t, sig, linewidth=2, label=r\"$\\sigma(t) = \\frac{1}{1 + e^{-t}}$\")\n",
    "plt.xlim(-10, 10)\n",
    "plt.xlabel(\"t\")\n",
    "plt.legend(fontsize=14)\n",
    "plt.show()"
   ]
  },
  {
   "cell_type": "code",
   "execution_count": null,
   "id": "ce4cade0",
   "metadata": {},
   "outputs": [],
   "source": []
  }
 ],
 "metadata": {
  "kernelspec": {
   "display_name": "Python 3 (ipykernel)",
   "language": "python",
   "name": "python3"
  },
  "language_info": {
   "codemirror_mode": {
    "name": "ipython",
    "version": 3
   },
   "file_extension": ".py",
   "mimetype": "text/x-python",
   "name": "python",
   "nbconvert_exporter": "python",
   "pygments_lexer": "ipython3",
   "version": "3.10.5"
  }
 },
 "nbformat": 4,
 "nbformat_minor": 5
}
